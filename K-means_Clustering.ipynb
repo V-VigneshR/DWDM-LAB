import numpy as np
import matplotlib.pyplot as plt

def initialize_centroids(data, k):
    indices = np.random.choice(data.shape[0], k, replace=False)
    return data[indices]

def assign_clusters(data, centroids):
    distances = np.linalg.norm(data[:, np.newaxis] - centroids, axis=2)
    return np.argmin(distances, axis=1)

def update_centroids(data, clusters, k):
    new_centroids = np.array([data[clusters == i].mean(axis=0) for i in range(k)])
    return new_centroids

def kmeans(data, k, max_iters=100):
    centroids = initialize_centroids(data, k)
    for _ in range(max_iters):
        clusters = assign_clusters(data, centroids)
        new_centroids = update_centroids(data, clusters, k)
        if np.all(centroids == new_centroids):
            break
        centroids = new_centroids
    return centroids, clusters

np.random.seed(0)
data = np.vstack([
    np.random.randn(100, 2) + np.array([5, 5]),
    np.random.randn(100, 2) + np.array([-5, -5]),
    np.random.randn(100, 2) + np.array([5, -5])
])

k = 3
centroids, clusters = kmeans(data, k)

plt.figure(figsize=(8, 6))
for i in range(k):
    plt.scatter(data[clusters == i][:, 0], data[clusters == i][:, 1], label=f'Cluster {i+1}')
plt.scatter(centroids[:, 0], centroids[:, 1], s=300, c='red', marker='x', label='Centroids')
plt.title('K-means Clustering')
plt.xlabel('Feature 1')
plt.ylabel('Feature 2')
plt.legend()
plt.grid(True)
plt.show()
